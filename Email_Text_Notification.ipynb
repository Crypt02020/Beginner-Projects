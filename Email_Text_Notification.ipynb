{
 "cells": [
  {
   "cell_type": "code",
   "execution_count": 31,
   "metadata": {},
   "outputs": [
    {
     "data": {
      "text/plain": [
       "{}"
      ]
     },
     "execution_count": 31,
     "metadata": {},
     "output_type": "execute_result"
    }
   ],
   "source": [
    " import smtplib\n",
    "smtpObj = smtplib.SMTP('smtp.gmail.com', 587) #Email server and port number of the company that hosts your email service\n",
    "type(smtpObj)\n",
    "smtpObj.ehlo()\n",
    "smtpObj.starttls() \n",
    "smtpObj.login(' example@gmail.com ', ' password ') #Login usernam, password\n",
    "smtpObj.sendmail(' dd7521a@student.american.edu ', ' example@gmail.com ', #Email from your address to the recipient's\n",
    "'Subject: Hello.\\nthis email was sent from python') #Include contents of message\n",
    "{}\n",
    "\n",
    "\n",
    "    \n",
    "    \n",
    "    "
   ]
  },
  {
   "cell_type": "code",
   "execution_count": 32,
   "metadata": {},
   "outputs": [
    {
     "data": {
      "text/plain": [
       "(221, b'2.0.0 closing connection x49sm64489175qta.89 - gsmtp')"
      ]
     },
     "execution_count": 32,
     "metadata": {},
     "output_type": "execute_result"
    }
   ],
   "source": [
    "smtpObj.quit()"
   ]
  },
  {
   "cell_type": "code",
   "execution_count": 36,
   "metadata": {},
   "outputs": [
    {
     "name": "stdout",
     "output_type": "stream",
     "text": [
      "\n",
      "The following command must be run outside of the IPython shell:\n",
      "\n",
      "    $ pip install twilio\n",
      "\n",
      "The Python package manager (pip) can only be used from outside of IPython.\n",
      "Please reissue the `pip` command in a separate terminal or command prompt.\n",
      "\n",
      "See the Python documentation for more information on how to install packages:\n",
      "\n",
      "    https://docs.python.org/3/installing/\n"
     ]
    }
   ],
   "source": [
    "from twilio.rest import TwilioRestClient\n",
    "accountSID = 'ACCOUNT_SID'\n",
    "authtoken = 'YOUR_AUTH_TOKEN'\n",
    "twilioCli = TwilioRestClient(AC15db627100b2aad624bf05e464d72c15, ebf26a111497a04bcb66f05494cda39e)\n",
    "myTwilioNumber = '+TWILIO_PHONE_#' #Twilio Phone number\n",
    "myC ellPhone = '+YOUR_PHONE_#'#Your Phone number \n",
    "message = twilioCli.messages.create(body='This text was sent from python. Hello, me.', from_=+SENDER_PHONE_#, to=+RECIPIENT_PHONE_#)"
   ]
  }
 ],
 "metadata": {
  "kernelspec": {
   "display_name": "Python 3",
   "language": "python",
   "name": "python3"
  },
  "language_info": {
   "codemirror_mode": {
    "name": "ipython",
    "version": 3
   },
   "file_extension": ".py",
   "mimetype": "text/x-python",
   "name": "python",
   "nbconvert_exporter": "python",
   "pygments_lexer": "ipython3",
   "version": "3.7.1"
  }
 },
 "nbformat": 4,
 "nbformat_minor": 2
}
